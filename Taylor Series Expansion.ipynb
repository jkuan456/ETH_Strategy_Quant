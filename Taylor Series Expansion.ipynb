{
 "cells": [
  {
   "cell_type": "code",
   "execution_count": 1,
   "id": "f3b08e89",
   "metadata": {},
   "outputs": [],
   "source": [
    "import numpy as np"
   ]
  },
  {
   "cell_type": "code",
   "execution_count": 32,
   "id": "18cbc6e7",
   "metadata": {},
   "outputs": [
    {
     "name": "stdout",
     "output_type": "stream",
     "text": [
      "1.9536119945512995\n"
     ]
    }
   ],
   "source": [
    "def taylor_ln(x, a, n_terms=2):\n",
    "    if x <= 0 or a <= 0:\n",
    "        raise ValueError(\"x and a must be positive for ln(x) to be defined.\")\n",
    "    \n",
    "    ln_a = np.log(a)+sum(((-1) ** (k + 1) * (x - a) ** k) / (k * a ** k) for k in range(1, n_terms + 1))\n",
    "    \n",
    "    return ln_a\n",
    "\n",
    "# Example usage\n",
    "x = np.exp(1)  # Point where we evaluate\n",
    "a = np.exp(4)   # Expansion around this point\n",
    "n_terms = 5  # Number of terms in the Taylor series\n",
    "\n",
    "approx_ln = taylor_ln(x, a, n_terms)\n",
    "print(approx_ln)\n"
   ]
  },
  {
   "cell_type": "code",
   "execution_count": 33,
   "id": "d88d6213",
   "metadata": {},
   "outputs": [
    {
     "data": {
      "text/plain": [
       "1.0"
      ]
     },
     "execution_count": 33,
     "metadata": {},
     "output_type": "execute_result"
    }
   ],
   "source": [
    "np.log(x)"
   ]
  },
  {
   "cell_type": "code",
   "execution_count": null,
   "id": "a34ecf74",
   "metadata": {},
   "outputs": [],
   "source": []
  }
 ],
 "metadata": {
  "kernelspec": {
   "display_name": "Python 3 (ipykernel)",
   "language": "python",
   "name": "python3"
  },
  "language_info": {
   "codemirror_mode": {
    "name": "ipython",
    "version": 3
   },
   "file_extension": ".py",
   "mimetype": "text/x-python",
   "name": "python",
   "nbconvert_exporter": "python",
   "pygments_lexer": "ipython3",
   "version": "3.11.5"
  }
 },
 "nbformat": 4,
 "nbformat_minor": 5
}
