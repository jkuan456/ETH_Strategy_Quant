{
 "cells": [
  {
   "cell_type": "code",
   "execution_count": 8,
   "id": "32f8a2a4",
   "metadata": {},
   "outputs": [
    {
     "name": "stdout",
     "output_type": "stream",
     "text": [
      "Implied Volatility: 0.0354\n"
     ]
    }
   ],
   "source": [
    "import numpy as np\n",
    "from scipy.stats import norm\n",
    "from scipy.optimize import brentq\n",
    "\n",
    "def black_scholes_price(S, K, T, r, sigma, option_type=\"call\"):\n",
    "    \"\"\"Compute Black-Scholes option price.\"\"\"\n",
    "    d1 = (np.log(S / K) + (r + 0.5 * sigma ** 2) * T) / (sigma * np.sqrt(T))\n",
    "    d2 = d1 - sigma * np.sqrt(T)\n",
    "\n",
    "    if option_type == \"call\":\n",
    "        price = S * norm.cdf(d1) - K * np.exp(-r * T) * norm.cdf(d2)\n",
    "    else:\n",
    "        price = K * np.exp(-r * T) * norm.cdf(-d2) - S * norm.cdf(-d1)\n",
    "\n",
    "    return price\n",
    "\n",
    "def implied_volatility(S, K, T, r, market_price, option_type=\"call\"):\n",
    "    \"\"\"Solve for implied volatility using Brent's method.\"\"\"\n",
    "    def objective_function(sigma):\n",
    "        return black_scholes_price(S, K, T, r, sigma, option_type) - market_price\n",
    "\n",
    "    try:\n",
    "        iv = brentq(objective_function, 1e-6, 10.0)  # Bound between small and large vol\n",
    "        return iv\n",
    "    except ValueError:\n",
    "        return np.nan  # Return NaN if no solution is found\n",
    "\n",
    "# Example Usage:\n"
   ]
  },
  {
   "cell_type": "code",
   "execution_count": 9,
   "id": "2df5d705",
   "metadata": {},
   "outputs": [
    {
     "name": "stdout",
     "output_type": "stream",
     "text": [
      "Implied Volatility: 0.0354\n"
     ]
    }
   ],
   "source": [
    "S = 100  # Current stock price\n",
    "K = 100  # Strike price\n",
    "T = 1    # Time to expiration (1 year)\n",
    "r = 0.05 # Risk-free rate (5%)\n",
    "market_price = 5  # Observed market option price\n",
    "\n",
    "iv = implied_volatility(S, K, T, r, market_price, option_type=\"call\")\n",
    "print(f\"Implied Volatility: {iv:.4f}\")\n"
   ]
  },
  {
   "cell_type": "code",
   "execution_count": null,
   "id": "08b31e66",
   "metadata": {},
   "outputs": [],
   "source": []
  }
 ],
 "metadata": {
  "kernelspec": {
   "display_name": "Python 3 (ipykernel)",
   "language": "python",
   "name": "python3"
  },
  "language_info": {
   "codemirror_mode": {
    "name": "ipython",
    "version": 3
   },
   "file_extension": ".py",
   "mimetype": "text/x-python",
   "name": "python",
   "nbconvert_exporter": "python",
   "pygments_lexer": "ipython3",
   "version": "3.11.5"
  }
 },
 "nbformat": 4,
 "nbformat_minor": 5
}
